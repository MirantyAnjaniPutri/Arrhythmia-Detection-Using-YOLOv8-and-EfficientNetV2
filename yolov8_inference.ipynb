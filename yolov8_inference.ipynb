{
 "cells": [
  {
   "cell_type": "markdown",
   "metadata": {},
   "source": [
    "# Inference YOLOv8"
   ]
  },
  {
   "cell_type": "code",
   "execution_count": 44,
   "metadata": {},
   "outputs": [],
   "source": [
    "# from PIL import Image, ImageDraw, ImageFont\n",
    "# import argparse\n",
    "# from pathlib import Path\n",
    "# from ultralytics import YOLO\n",
    "\n",
    "# # Function to plot bounding boxes\n",
    "# def plot_boxes(draw, boxes, class_labels, color):\n",
    "#     for box in boxes:\n",
    "#         cls, xyxy = box\n",
    "#         x1, y1, x2, y2 = xyxy\n",
    "\n",
    "#         # Draw bounding box rectangle\n",
    "#         draw.rectangle([x1, y1, x2, y2], outline=color, width=3)\n",
    "\n",
    "#         # Add class text\n",
    "#         font = ImageFont.load_default()\n",
    "#         text = class_labels[cls]\n",
    "#         text_bbox = draw.textbbox((0, 0), text, font=font)\n",
    "#         text_width = text_bbox[2] - text_bbox[0]\n",
    "#         text_height = text_bbox[3] - text_bbox[1]\n",
    "#         text_x = x1\n",
    "#         text_y = y1 - text_height\n",
    "\n",
    "#         if text_y < 0:\n",
    "#             text_y = 0\n",
    "\n",
    "#         # Draw filled rectangle for text background\n",
    "#         draw.rectangle([text_x, text_y, text_x + text_width, text_y + text_height], fill=color)\n",
    "\n",
    "#         # Draw text on top of the rectangle\n",
    "#         draw.text((text_x, text_y), text, fill='white', font=font)\n",
    "\n",
    "# def display_ground_truths_and_predictions(optimizer, image_path, label_path, class_labels):\n",
    "#     # Determine model directory based on optimizer\n",
    "#     if optimizer.lower() == 'adam':\n",
    "#         model_path = 'D:/Skripsweet/BISMILLAH_KELAR/runs/yolov8n-obb/yolov8n-obb - nano adam/weights/best.pt'  # Replace with your actual path\n",
    "#     elif optimizer.lower() == 'sgd':\n",
    "#         model_path = 'D:/Skripsweet/BISMILLAH_KELAR/runs/yolov8n-obb/yolov8n-obb - nano sgd/weights/best.pt'  # Replace with your actual path\n",
    "#     else:\n",
    "#         raise ValueError(f\"Optimizer '{optimizer}' is not supported. Choose either 'adam' or 'sgd'.\")\n",
    "\n",
    "#     # Load YOLO model\n",
    "#     model = YOLO(model_path)\n",
    "\n",
    "#     # Load image\n",
    "#     image = Image.open(image_path)\n",
    "#     width, height = image.size\n",
    "#     draw = ImageDraw.Draw(image)\n",
    "\n",
    "#     # Load ground truths\n",
    "#     label_file = label_path  # Assuming label_path directly points to the label file\n",
    "#     if Path(label_file).exists():\n",
    "#         with open(label_file, 'r') as f:\n",
    "#             lines = f.readlines()\n",
    "#             for line in lines:\n",
    "#                 entries = line.split()\n",
    "#                 cls = int(entries[0])\n",
    "#                 coordinates = [(float(entries[i]) * width, float(entries[i+1]) * height) for i in range(1, len(entries), 2)]\n",
    "#                 coordinates.append(coordinates[0])  # Close the polygon\n",
    "#                 plot_boxes(draw, [(cls, coordinates)], class_labels, color='red')\n",
    "\n",
    "#     # Run inference\n",
    "#     results = model.predict(image)\n",
    "    \n",
    "#     # Plot predictions\n",
    "#     for result in results:\n",
    "#         print(result.obb)\n",
    "#         # boxes = result[:, :4].tolist()  # Extract xyxy coordinates and convert to list\n",
    "#         # scores = result[:, 4].tolist()   # Extract confidence scores\n",
    "#         # classes = result[:, 5].tolist()  # Extract class indices\n",
    "#         # for box, score, cls in zip(boxes, scores, classes):\n",
    "#         #     plot_boxes(draw, [(cls, box)], class_labels, color='green')\n",
    "\n",
    "#     # Display the image\n",
    "#     image.show()\n",
    "\n",
    "# if __name__ == \"__main__\":\n",
    "#     optimizer = 'sgd'  # Replace with 'adam' or 'sgd'\n",
    "#     image_path = \"D:/Skripsweet/BISMILLAH_KELAR/datasets/images/val/13143_lr-0.png\"\n",
    "#     label_path = \"D:/Skripsweet/BISMILLAH_KELAR/datasets/labels/val/13143_lr-0.txt\"\n",
    "\n",
    "#     # Class labels for display\n",
    "#     class_labels = ['I arrhythmia', 'II arrhythmia', 'III arrhythmia', 'aVF arrhythmia', 'aVL arrhythmia', 'aVR arrhythmia',\n",
    "#                     'V1 arrhythmia', 'V2 arrhythmia', 'V3 arrhythmia', 'V4 arrhythmia', 'V5 arrhythmia', 'V6 arrhythmia']\n",
    "\n",
    "#     # Call function to display ground truths and predictions\n",
    "#     display_ground_truths_and_predictions(optimizer, image_path, label_path, class_labels)\n"
   ]
  },
  {
   "cell_type": "code",
   "execution_count": 50,
   "metadata": {},
   "outputs": [],
   "source": [
    "from PIL import Image, ImageDraw, ImageFont\n",
    "from ultralytics import YOLO\n",
    "\n",
    "# image_path = \"D:/Skripsweet/BISMILLAH_KELAR/datasets/images/val/13143_lr-0.png\"\n",
    "# label_path = \"D:/Skripsweet/BISMILLAH_KELAR/datasets/labels/val/13143_lr-0.txt\"\n",
    "image_path = \"D:/Skripsweet/BISMILLAH_KELAR/datasets_binarize/val/images/13143_lr-0_1.png\"\n",
    "label_path = \"D:/Skripsweet/BISMILLAH_KELAR/datasets_binarize/val/labels/13143_lr-0_1.txt\"\n",
    "\n",
    "# Define class labels\n",
    "labels = [\n",
    "    'I arrhythmia', 'II arrhythmia', 'III arrhythmia', \n",
    "    'aVF arrhythmia', 'aVL arrhythmia', 'aVR arrhythmia',\n",
    "    'V1 arrhythmia', 'V2 arrhythmia', 'V3 arrhythmia', \n",
    "    'V4 arrhythmia', 'V5 arrhythmia', 'V6 arrhythmia'\n",
    "]\n",
    "\n",
    "yolo_entries = []\n",
    "with open(label_path, 'r') as f:\n",
    "    yolo_entries = f.readlines()\n",
    "\n",
    "boxes = []\n",
    "for yolo_entry in yolo_entries:\n",
    "    data = yolo_entry.split()\n",
    "    label = int(data[0])\n",
    "    box = list(map(float, data[1:]))\n",
    "    boxes.append((label, box))  # Store label and box coordinates as tuple\n",
    "\n",
    "# Function to plot bounding boxes and labels on an image\n",
    "def plot_boxes(image_path, boxes, labels, color='red'):\n",
    "    # Open the image using PIL\n",
    "    image = Image.open(image_path)\n",
    "    draw = ImageDraw.Draw(image)\n",
    "    width, height = image.size\n",
    "\n",
    "    for label, box in boxes:\n",
    "        if len(box) == 8:\n",
    "            x1, y1, x2, y2, x3, y3, x4, y4 = box  # Extract coordinates\n",
    "            # Convert YOLO format to PIL format (x1, y1, x2, y2, x3, y3, x4, y4)\n",
    "            xy = [(x1 * width, y1 * height), (x2 * width, y2 * height),\n",
    "                  (x3 * width, y3 * height), (x4 * width, y4 * height), (x1 * width, y1 * height)]\n",
    "\n",
    "            draw.line(xy, fill=color, width=3)\n",
    "            \n",
    "            # Draw filled background rectangle\n",
    "            label_text = labels[label]\n",
    "            font_size = 30\n",
    "            font = ImageFont.truetype(\"arial.ttf\", font_size)  # Adjust font type and size as needed\n",
    "            \n",
    "            # Calculate text size and position\n",
    "            text_width, text_height = 200, 30\n",
    "            # draw.textsize(label_text, font=font)\n",
    "            text_x = x1 * width + 5\n",
    "            text_y = y1 * height - text_height - 5  # Adjust for text position above the bounding box\n",
    "            bg_color = 'white'  # Background color\n",
    "            draw.rectangle([(text_x, text_y), \n",
    "                            (text_x + text_width, text_y + text_height)], fill=bg_color)\n",
    "            \n",
    "            # Draw label text with larger font size\n",
    "            draw.text((text_x, text_y), label_text, fill=color, font=font)\n",
    "\n",
    "    # Save or display the image with bounding boxes and labels\n",
    "    image.show()  # Show the image with bounding boxes and labels\n",
    "\n",
    "plot_boxes(image_path, boxes, labels)"
   ]
  },
  {
   "cell_type": "code",
   "execution_count": 2,
   "metadata": {},
   "outputs": [],
   "source": [
    "from ultralytics import YOLO"
   ]
  },
  {
   "cell_type": "code",
   "execution_count": 17,
   "metadata": {},
   "outputs": [],
   "source": [
    "image_path_color = \"D:/Skripsweet/BISMILLAH_KELAR/datasets/images/val/13143_lr-0.png\"\n",
    "image_path_binarize = \"D:/Skripsweet/BISMILLAH_KELAR/datasets_binarize/val/images/13143_lr-0_1.png\""
   ]
  },
  {
   "cell_type": "code",
   "execution_count": 18,
   "metadata": {},
   "outputs": [
    {
     "name": "stdout",
     "output_type": "stream",
     "text": [
      "\n",
      "image 1/1 D:\\Skripsweet\\BISMILLAH_KELAR\\datasets\\images\\val\\13143_lr-0.png: 512x640 17.1ms\n",
      "Speed: 4.5ms preprocess, 17.1ms inference, 5.9ms postprocess per image at shape (1, 3, 512, 640)\n",
      "Results saved to \u001b[1mC:\\Users\\miran\\runs\\obb\\predict21\u001b[0m\n"
     ]
    }
   ],
   "source": [
    "# Load a pretrained YOLOv8n model\n",
    "model = YOLO(\"D:/Skripsweet/BISMILLAH_KELAR/runs/yolov8n-obb/yolov8n-obb - nano adam/weights/best.pt\")\n",
    "\n",
    "results = model.predict(image_path_color, save=True)\n",
    "for result in results:\n",
    "    boxes = result.boxes"
   ]
  },
  {
   "cell_type": "code",
   "execution_count": 19,
   "metadata": {},
   "outputs": [
    {
     "name": "stdout",
     "output_type": "stream",
     "text": [
      "\n",
      "image 1/1 D:\\Skripsweet\\BISMILLAH_KELAR\\datasets\\images\\val\\13143_lr-0.png: 512x640 21.8ms\n",
      "Speed: 3.5ms preprocess, 21.8ms inference, 5.6ms postprocess per image at shape (1, 3, 512, 640)\n",
      "Results saved to \u001b[1mC:\\Users\\miran\\runs\\obb\\predict22\u001b[0m\n"
     ]
    }
   ],
   "source": [
    "model_sgd = YOLO(\"D:/Skripsweet/BISMILLAH_KELAR/runs/yolov8n-obb/yolov8n-obb - nano sgd/weights/best.pt\")\n",
    "dir_sgd = 'D:/Skripsweet/BISMILLAH_KELAR/inference_result/color_sgd'\n",
    "\n",
    "results_sgd = model_sgd.predict(image_path_color, save=True, save_dir=dir_sgd)\n",
    "for result in results_sgd:\n",
    "    boxes = result.boxes"
   ]
  },
  {
   "cell_type": "code",
   "execution_count": 20,
   "metadata": {},
   "outputs": [
    {
     "name": "stdout",
     "output_type": "stream",
     "text": [
      "\n",
      "image 1/1 D:\\Skripsweet\\BISMILLAH_KELAR\\datasets_binarize\\val\\images\\13143_lr-0_1.png: 512x640 14.0ms\n",
      "Speed: 4.0ms preprocess, 14.0ms inference, 6.0ms postprocess per image at shape (1, 3, 512, 640)\n",
      "Results saved to \u001b[1mC:\\Users\\miran\\runs\\obb\\predict23\u001b[0m\n"
     ]
    }
   ],
   "source": [
    "model_adam_binary = YOLO(\"D:/Skripsweet/BISMILLAH_KELAR/runs/yolov8n-obb_Adam/yolov8n-obb/weights/best.pt\")\n",
    "dir_adam_binary = 'D:/Skripsweet/BISMILLAH_KELAR/inference_result/binary_adam'\n",
    "\n",
    "# Run inference on 'bus.jpg' and 'zidane.jpg'\n",
    "results_adam_binary = model_adam_binary.predict(image_path_binarize, save=True, save_dir=dir_adam_binary)\n",
    "for result in results_adam_binary:\n",
    "    boxes = result.boxes"
   ]
  },
  {
   "cell_type": "code",
   "execution_count": 21,
   "metadata": {},
   "outputs": [
    {
     "name": "stdout",
     "output_type": "stream",
     "text": [
      "\n",
      "image 1/1 D:\\Skripsweet\\BISMILLAH_KELAR\\datasets_binarize\\val\\images\\13143_lr-0_1.png: 512x640 20.5ms\n",
      "Speed: 7.0ms preprocess, 20.5ms inference, 7.1ms postprocess per image at shape (1, 3, 512, 640)\n",
      "Results saved to \u001b[1mC:\\Users\\miran\\runs\\obb\\predict24\u001b[0m\n"
     ]
    }
   ],
   "source": [
    "model_sgd_binary = YOLO(\"D:/Skripsweet/BISMILLAH_KELAR/runs/yolov8n-obb_SGD/yolov8n-obb/weights/best.pt\")\n",
    "dir_sgd_binary = 'D:/Skripsweet/BISMILLAH_KELAR/inference_result/binary_sgd'\n",
    "\n",
    "# Run inference on 'bus.jpg' and 'zidane.jpg'\n",
    "results_sgd_binary = model_sgd_binary.predict(image_path_binarize, save=True, save_dir=dir_sgd_binary)\n",
    "for result in results_sgd_binary:\n",
    "    boxes = result.boxes"
   ]
  },
  {
   "cell_type": "code",
   "execution_count": null,
   "metadata": {},
   "outputs": [],
   "source": []
  }
 ],
 "metadata": {
  "kernelspec": {
   "display_name": "train_yolo",
   "language": "python",
   "name": "python3"
  },
  "language_info": {
   "codemirror_mode": {
    "name": "ipython",
    "version": 3
   },
   "file_extension": ".py",
   "mimetype": "text/x-python",
   "name": "python",
   "nbconvert_exporter": "python",
   "pygments_lexer": "ipython3",
   "version": "3.9.19"
  }
 },
 "nbformat": 4,
 "nbformat_minor": 2
}
